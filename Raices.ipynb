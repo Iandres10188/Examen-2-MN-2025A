{
 "cells": [
  {
   "cell_type": "code",
   "execution_count": null,
   "id": "ee366891",
   "metadata": {},
   "outputs": [
    {
     "name": "stdout",
     "output_type": "stream",
     "text": [
      "x1 = -4.000000\n",
      "x2 = -1.000003\n",
      "x3 = 1.500000\n"
     ]
    }
   ],
   "source": [
    "import numpy as np\n",
    "from scipy.optimize import bisect, newton\n",
    "\n",
    "def f(x):\n",
    "    return x**5 + 5.5*x**4 + 4.5*x**3 - 9.5*x**2 - 15.5*x - 6\n",
    "\n",
    "def df(x):\n",
    "    return 5*x**4 + 22*x**3 + 13.5*x**2 - 19*x - 15.5\n",
    "\n",
    "raices = []\n",
    "\n",
    "lim_inf = -10\n",
    "lim_sup = 10\n",
    "paso = 0.1\n",
    "x_vals = np.arange(lim_inf, lim_sup, paso)\n",
    "\n",
    "for i in range(len(x_vals) - 1):\n",
    "    a, b = x_vals[i], x_vals[i+1]\n",
    "    try:\n",
    "        if f(a) * f(b) < 0:\n",
    "            r = bisect(f, a, b)\n",
    "            if not any(np.isclose(r, x, atol=1e-5) for x in raices):\n",
    "                raices.append(r)\n",
    "    except:\n",
    "        continue\n",
    "\n",
    "semillas = np.arange(-10, 10, 0.5)\n",
    "for s in semillas:\n",
    "    try:\n",
    "        r = newton(f, s, fprime=df)\n",
    "        if np.isreal(r) and not any(np.isclose(r, x, atol=1e-5) for x in raices):\n",
    "            raices.append(r.real)\n",
    "    except:\n",
    "        continue\n",
    "\n",
    "raices = sorted(raices)\n",
    "raices = raices[:6]\n",
    "\n",
    "for i, r in enumerate(raices):\n",
    "    print(f\"x{i+1} = {r:.6f}\")\n",
    "\n"
   ]
  }
 ],
 "metadata": {
  "kernelspec": {
   "display_name": "Python 3",
   "language": "python",
   "name": "python3"
  },
  "language_info": {
   "codemirror_mode": {
    "name": "ipython",
    "version": 3
   },
   "file_extension": ".py",
   "mimetype": "text/x-python",
   "name": "python",
   "nbconvert_exporter": "python",
   "pygments_lexer": "ipython3",
   "version": "3.11.9"
  }
 },
 "nbformat": 4,
 "nbformat_minor": 5
}
